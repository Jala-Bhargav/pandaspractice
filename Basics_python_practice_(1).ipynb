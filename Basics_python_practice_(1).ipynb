{
  "cells": [
    {
      "cell_type": "markdown",
      "metadata": {
        "id": "view-in-github",
        "colab_type": "text"
      },
      "source": [
        "<a href=\"https://colab.research.google.com/github/Jala-Bhargav/pandaspractice/blob/main/Basics_python_practice_(1).ipynb\" target=\"_parent\"><img src=\"https://colab.research.google.com/assets/colab-badge.svg\" alt=\"Open In Colab\"/></a>"
      ]
    },
    {
      "cell_type": "code",
      "execution_count": null,
      "id": "9107023c",
      "metadata": {
        "ExecuteTime": {
          "end_time": "2023-07-10T07:55:58.165921Z",
          "start_time": "2023-07-10T07:55:58.148627Z"
        },
        "id": "9107023c"
      },
      "outputs": [],
      "source": [
        "import pandas as pd"
      ]
    },
    {
      "cell_type": "code",
      "execution_count": null,
      "id": "9e26e049",
      "metadata": {
        "ExecuteTime": {
          "end_time": "2023-07-10T07:56:07.969470Z",
          "start_time": "2023-07-10T07:56:07.961956Z"
        },
        "id": "9e26e049"
      },
      "outputs": [],
      "source": [
        "a =5"
      ]
    },
    {
      "cell_type": "code",
      "execution_count": null,
      "id": "e23c7e84",
      "metadata": {
        "ExecuteTime": {
          "end_time": "2023-07-10T07:56:13.117142Z",
          "start_time": "2023-07-10T07:56:13.101237Z"
        },
        "id": "e23c7e84",
        "outputId": "9c179d5d-0b73-48df-f8c6-c2244ce26d79"
      },
      "outputs": [
        {
          "data": {
            "text/plain": [
              "10"
            ]
          },
          "execution_count": 5,
          "metadata": {},
          "output_type": "execute_result"
        }
      ],
      "source": [
        "a+5"
      ]
    },
    {
      "cell_type": "code",
      "execution_count": null,
      "id": "20153405",
      "metadata": {
        "ExecuteTime": {
          "end_time": "2023-07-10T09:33:42.641028Z",
          "start_time": "2023-07-10T09:33:42.460895Z"
        },
        "id": "20153405",
        "outputId": "87a9a168-7cfb-4b5a-e10b-4e72796b848e"
      },
      "outputs": [
        {
          "name": "stdout",
          "output_type": "stream",
          "text": [
            "Hello Universe\n"
          ]
        }
      ],
      "source": [
        "s = \"Hello World\"\n",
        "s = s.replace(\"World\",\"Universe\")\n",
        "print(s)"
      ]
    },
    {
      "cell_type": "code",
      "execution_count": null,
      "id": "0b113e8d",
      "metadata": {
        "ExecuteTime": {
          "end_time": "2023-07-10T09:34:47.791292Z",
          "start_time": "2023-07-10T09:34:47.751991Z"
        },
        "id": "0b113e8d",
        "outputId": "a9ec8275-a0e0-47f7-8e40-6829b612be05"
      },
      "outputs": [
        {
          "name": "stdout",
          "output_type": "stream",
          "text": [
            "Bugs Bunny\n"
          ]
        }
      ],
      "source": [
        "# define strings\n",
        "firstname = \"Bugs\"\n",
        "lastname = \"Bunny\"\n",
        "\n",
        "# define our sequence\n",
        "sequence = (firstname,lastname)\n",
        "\n",
        "# join into new string\n",
        "name = \" \".join(sequence)\n",
        "print(name)"
      ]
    },
    {
      "cell_type": "code",
      "execution_count": null,
      "id": "74907061",
      "metadata": {
        "ExecuteTime": {
          "end_time": "2023-07-10T09:35:32.854851Z",
          "start_time": "2023-07-10T09:35:32.831917Z"
        },
        "id": "74907061",
        "outputId": "565bd5ff-9f2f-4400-a00a-5a3e1d2f8b2b"
      },
      "outputs": [
        {
          "name": "stdout",
          "output_type": "stream",
          "text": [
            "21\n"
          ]
        }
      ],
      "source": [
        "s = \"That I ever did see. Dusty as the handle on the door\"\n",
        "\n",
        "index = s.find(\"Dusty\")\n",
        "print(index)"
      ]
    },
    {
      "cell_type": "code",
      "execution_count": null,
      "id": "c3b4a07f",
      "metadata": {
        "ExecuteTime": {
          "end_time": "2023-07-10T09:36:18.848605Z",
          "start_time": "2023-07-10T09:36:18.829769Z"
        },
        "id": "c3b4a07f",
        "outputId": "1b9c8ae9-d880-480a-8d26-575a0940f668"
      },
      "outputs": [
        {
          "name": "stdout",
          "output_type": "stream",
          "text": [
            "['Its', 'to', 'easy']\n"
          ]
        }
      ],
      "source": [
        "s = \"Its to easy\"\n",
        "words = s.split()\n",
        "print(words)"
      ]
    },
    {
      "cell_type": "code",
      "execution_count": null,
      "id": "295cc890",
      "metadata": {
        "ExecuteTime": {
          "end_time": "2023-07-10T09:36:36.364801Z",
          "start_time": "2023-07-10T09:36:36.325627Z"
        },
        "id": "295cc890",
        "outputId": "82a376a0-a038-495a-bb9f-cec7241479f0"
      },
      "outputs": [
        {
          "name": "stdout",
          "output_type": "stream",
          "text": [
            "3\n"
          ]
        }
      ],
      "source": [
        "print(len(words))"
      ]
    },
    {
      "cell_type": "code",
      "execution_count": null,
      "id": "b7cec972",
      "metadata": {
        "ExecuteTime": {
          "end_time": "2023-07-10T09:37:34.815988Z",
          "start_time": "2023-07-10T09:37:34.802700Z"
        },
        "id": "b7cec972",
        "outputId": "c4f63207-a4e5-4246-b5e8-636ea36ec4e3"
      },
      "outputs": [
        {
          "name": "stdout",
          "output_type": "stream",
          "text": [
            "0.8717978961601686\n"
          ]
        }
      ],
      "source": [
        "import random\n",
        "\n",
        "# Create a random floating point number and print it.\n",
        "print(random.random())"
      ]
    },
    {
      "cell_type": "code",
      "execution_count": null,
      "id": "4207295e",
      "metadata": {
        "ExecuteTime": {
          "end_time": "2023-07-10T09:38:45.250417Z",
          "start_time": "2023-07-10T09:38:45.234074Z"
        },
        "id": "4207295e",
        "outputId": "735b2309-4eca-48a7-c348-e95ef4bee02e"
      },
      "outputs": [
        {
          "name": "stdout",
          "output_type": "stream",
          "text": [
            "9\n"
          ]
        }
      ],
      "source": [
        "print(random.randrange(0,10))"
      ]
    },
    {
      "cell_type": "code",
      "execution_count": null,
      "id": "1d7a59f9",
      "metadata": {
        "ExecuteTime": {
          "end_time": "2023-07-10T09:39:23.431002Z",
          "start_time": "2023-07-10T09:39:23.409015Z"
        },
        "id": "1d7a59f9",
        "outputId": "94e1f16e-5766-4d5c-9a74-b2e50a8c8546"
      },
      "outputs": [
        {
          "name": "stdout",
          "output_type": "stream",
          "text": [
            "5.51414743277487\n"
          ]
        }
      ],
      "source": [
        "print(random.uniform(0,10))"
      ]
    },
    {
      "cell_type": "code",
      "execution_count": null,
      "id": "d1337741",
      "metadata": {
        "ExecuteTime": {
          "end_time": "2023-07-10T09:40:15.988961Z",
          "start_time": "2023-07-10T09:40:13.199861Z"
        },
        "id": "d1337741",
        "outputId": "adb6ae78-2576-4eca-d5fd-bca8b898ca6d"
      },
      "outputs": [
        {
          "name": "stdout",
          "output_type": "stream",
          "text": [
            "What is your name? excelr\n",
            "Hello excelr\n"
          ]
        }
      ],
      "source": [
        "name = input('What is your name? ')\n",
        "print('Hello ' + name)"
      ]
    },
    {
      "cell_type": "code",
      "execution_count": null,
      "id": "3a458f56",
      "metadata": {
        "ExecuteTime": {
          "end_time": "2023-07-10T09:41:50.246482Z",
          "start_time": "2023-07-10T09:41:50.222882Z"
        },
        "id": "3a458f56",
        "outputId": "e32d9c6c-4982-435e-c83f-974f9f46f4c5"
      },
      "outputs": [
        {
          "name": "stdout",
          "output_type": "stream",
          "text": [
            "x below ten\n"
          ]
        }
      ],
      "source": [
        "x = 3\n",
        "if x < 10:\n",
        "    print('x below ten')"
      ]
    },
    {
      "cell_type": "code",
      "execution_count": null,
      "id": "c78f868f",
      "metadata": {
        "ExecuteTime": {
          "end_time": "2023-07-10T09:43:21.191315Z",
          "start_time": "2023-07-10T09:43:21.171741Z"
        },
        "id": "c78f868f",
        "outputId": "19231f70-6e9e-4778-f498-9dc8ff452ebb"
      },
      "outputs": [
        {
          "name": "stdout",
          "output_type": "stream",
          "text": [
            "x is smaller than five\n",
            "this means it's not equal to five either\n",
            "x is an integer\n"
          ]
        }
      ],
      "source": [
        "x = 4\n",
        "if x < 5:\n",
        "    print(\"x is smaller than five\")\n",
        "    print(\"this means it's not equal to five either\")\n",
        "    print(\"x is an integer\")"
      ]
    },
    {
      "cell_type": "code",
      "execution_count": null,
      "id": "22b268f6",
      "metadata": {
        "ExecuteTime": {
          "end_time": "2023-07-10T09:45:54.789316Z",
          "start_time": "2023-07-10T09:45:54.743217Z"
        },
        "id": "22b268f6",
        "outputId": "7db18ec8-4a3a-4133-df84-943f5c281738"
      },
      "outputs": [
        {
          "name": "stdout",
          "output_type": "stream",
          "text": [
            "Cities loop:\n",
            "City: Tokyo\n",
            "City: New York\n",
            "City: Toronto\n",
            "City: Hong Kong\n",
            "\n",
            "\n"
          ]
        }
      ],
      "source": [
        "city = ['Tokyo','New York','Toronto','Hong Kong']\n",
        "print('Cities loop:')\n",
        "for x in city:\n",
        "    print('City: ' + x)\n",
        "\n",
        "print('\\n')  # newline"
      ]
    },
    {
      "cell_type": "code",
      "execution_count": null,
      "id": "802b172e",
      "metadata": {
        "ExecuteTime": {
          "end_time": "2023-07-10T09:48:23.033025Z",
          "start_time": "2023-07-10T09:48:23.006610Z"
        },
        "id": "802b172e",
        "outputId": "3ca56180-7e4e-4620-80fa-20000a2f5195"
      },
      "outputs": [
        {
          "name": "stdout",
          "output_type": "stream",
          "text": [
            "3\n",
            "4\n",
            "5\n",
            "6\n",
            "7\n",
            "8\n",
            "9\n"
          ]
        }
      ],
      "source": [
        "x = 3\n",
        "while x < 10:\n",
        "    print(x)\n",
        "    x = x + 1"
      ]
    },
    {
      "cell_type": "code",
      "execution_count": null,
      "id": "7b019591",
      "metadata": {
        "ExecuteTime": {
          "end_time": "2023-07-10T09:50:55.790611Z",
          "start_time": "2023-07-10T09:50:55.770652Z"
        },
        "id": "7b019591"
      },
      "outputs": [],
      "source": [
        "def currentYear():\n",
        "    print('2023')"
      ]
    },
    {
      "cell_type": "code",
      "execution_count": null,
      "id": "d95c6fb8",
      "metadata": {
        "ExecuteTime": {
          "end_time": "2023-07-10T09:50:57.909581Z",
          "start_time": "2023-07-10T09:50:57.899392Z"
        },
        "id": "d95c6fb8",
        "outputId": "2214f773-0ee1-4dce-9598-612bd1616560"
      },
      "outputs": [
        {
          "name": "stdout",
          "output_type": "stream",
          "text": [
            "2023\n"
          ]
        }
      ],
      "source": [
        "currentYear()"
      ]
    },
    {
      "cell_type": "code",
      "execution_count": null,
      "id": "a7b2e8ed",
      "metadata": {
        "ExecuteTime": {
          "end_time": "2023-07-10T09:52:21.639722Z",
          "start_time": "2023-07-10T09:52:21.622157Z"
        },
        "id": "a7b2e8ed"
      },
      "outputs": [],
      "source": [
        "ratings = [ 'A','A','B','A','C','A' ]"
      ]
    },
    {
      "cell_type": "code",
      "execution_count": null,
      "id": "d49858fe",
      "metadata": {
        "ExecuteTime": {
          "end_time": "2023-07-10T09:52:30.670170Z",
          "start_time": "2023-07-10T09:52:30.659030Z"
        },
        "id": "d49858fe",
        "outputId": "acb607d9-b5f1-4226-c7fb-cf68e9c1c336"
      },
      "outputs": [
        {
          "name": "stdout",
          "output_type": "stream",
          "text": [
            "['A', 'A', 'B', 'A', 'C', 'A']\n"
          ]
        }
      ],
      "source": [
        "print(ratings)"
      ]
    },
    {
      "cell_type": "code",
      "execution_count": null,
      "id": "e4af1906",
      "metadata": {
        "ExecuteTime": {
          "end_time": "2023-07-10T09:53:05.360646Z",
          "start_time": "2023-07-10T09:53:05.338802Z"
        },
        "id": "e4af1906",
        "outputId": "9243e4a7-3f8d-4705-fe40-3a35147a51e5"
      },
      "outputs": [
        {
          "data": {
            "text/plain": [
              "'B'"
            ]
          },
          "execution_count": 27,
          "metadata": {},
          "output_type": "execute_result"
        }
      ],
      "source": [
        "ratings[2]"
      ]
    },
    {
      "cell_type": "code",
      "execution_count": null,
      "id": "f2a54370",
      "metadata": {
        "ExecuteTime": {
          "end_time": "2023-07-10T09:53:40.570779Z",
          "start_time": "2023-07-10T09:53:40.553832Z"
        },
        "id": "f2a54370"
      },
      "outputs": [],
      "source": [
        "list2 = [1,3,4,6,4,7,8,2,3]\n"
      ]
    },
    {
      "cell_type": "code",
      "execution_count": null,
      "id": "2b00dfa3",
      "metadata": {
        "ExecuteTime": {
          "end_time": "2023-07-10T09:53:48.950389Z",
          "start_time": "2023-07-10T09:53:48.929454Z"
        },
        "id": "2b00dfa3",
        "outputId": "b4cf1dea-f1c6-427f-f53f-97c40b1a7cbf"
      },
      "outputs": [
        {
          "name": "stdout",
          "output_type": "stream",
          "text": [
            "38\n"
          ]
        }
      ],
      "source": [
        "print(sum(list2))"
      ]
    },
    {
      "cell_type": "code",
      "execution_count": null,
      "id": "4e877c75",
      "metadata": {
        "ExecuteTime": {
          "end_time": "2023-07-10T09:54:05.208434Z",
          "start_time": "2023-07-10T09:54:05.189450Z"
        },
        "id": "4e877c75",
        "outputId": "30fe045d-878f-4ffe-8e2d-630211028271"
      },
      "outputs": [
        {
          "name": "stdout",
          "output_type": "stream",
          "text": [
            "1\n"
          ]
        }
      ],
      "source": [
        "print(min(list2))"
      ]
    },
    {
      "cell_type": "code",
      "execution_count": null,
      "id": "ff4f5259",
      "metadata": {
        "ExecuteTime": {
          "end_time": "2023-07-10T09:54:23.715285Z",
          "start_time": "2023-07-10T09:54:23.701029Z"
        },
        "id": "ff4f5259",
        "outputId": "a287fa6b-644a-47c9-aaf7-f799e5d9233e"
      },
      "outputs": [
        {
          "name": "stdout",
          "output_type": "stream",
          "text": [
            "3\n"
          ]
        }
      ],
      "source": [
        "print(list2[-1])"
      ]
    },
    {
      "cell_type": "code",
      "execution_count": null,
      "id": "0b1df442",
      "metadata": {
        "ExecuteTime": {
          "end_time": "2023-07-10T09:55:48.650862Z",
          "start_time": "2023-07-10T09:55:48.637015Z"
        },
        "id": "0b1df442"
      },
      "outputs": [],
      "source": [
        "x = [3,4,5]\n",
        "x.append(6)"
      ]
    },
    {
      "cell_type": "code",
      "execution_count": null,
      "id": "c76c37cb",
      "metadata": {
        "ExecuteTime": {
          "end_time": "2023-07-10T09:55:51.780336Z",
          "start_time": "2023-07-10T09:55:51.768402Z"
        },
        "id": "c76c37cb",
        "outputId": "14e6a9f5-189d-40b2-f1b0-37516340c340"
      },
      "outputs": [
        {
          "data": {
            "text/plain": [
              "[3, 4, 5, 6]"
            ]
          },
          "execution_count": 33,
          "metadata": {},
          "output_type": "execute_result"
        }
      ],
      "source": [
        "x"
      ]
    },
    {
      "cell_type": "code",
      "execution_count": null,
      "id": "9e8d9de4",
      "metadata": {
        "ExecuteTime": {
          "end_time": "2023-07-10T09:56:39.453892Z",
          "start_time": "2023-07-10T09:56:39.439889Z"
        },
        "id": "9e8d9de4",
        "outputId": "694559e7-6511-4f19-aa0a-6eb853b754e6"
      },
      "outputs": [
        {
          "name": "stdout",
          "output_type": "stream",
          "text": [
            "[3, 4, 5, 6, 7]\n"
          ]
        },
        {
          "data": {
            "text/plain": [
              "[3, 4, 5, 6, 7]"
            ]
          },
          "execution_count": 34,
          "metadata": {},
          "output_type": "execute_result"
        }
      ],
      "source": [
        "x.append(7)\n",
        "print(x)\n",
        "x"
      ]
    },
    {
      "cell_type": "code",
      "execution_count": null,
      "id": "2f5980e7",
      "metadata": {
        "ExecuteTime": {
          "end_time": "2023-07-10T09:57:04.720690Z",
          "start_time": "2023-07-10T09:57:04.700080Z"
        },
        "id": "2f5980e7",
        "outputId": "a4c50433-e8da-44e5-aa3f-ec045921a365"
      },
      "outputs": [
        {
          "name": "stdout",
          "output_type": "stream",
          "text": [
            "[3, 4, 5, 7]\n"
          ]
        },
        {
          "data": {
            "text/plain": [
              "[3, 4, 5, 7]"
            ]
          },
          "execution_count": 35,
          "metadata": {},
          "output_type": "execute_result"
        }
      ],
      "source": [
        "x.pop(3)\n",
        "print(x)\n",
        "x"
      ]
    },
    {
      "cell_type": "code",
      "execution_count": null,
      "id": "28f9c98f",
      "metadata": {
        "ExecuteTime": {
          "end_time": "2023-07-10T09:58:22.766188Z",
          "start_time": "2023-07-10T09:58:22.753142Z"
        },
        "id": "28f9c98f",
        "outputId": "e2f29466-9b81-471e-fab2-83ad08fca5db"
      },
      "outputs": [
        {
          "name": "stdout",
          "output_type": "stream",
          "text": [
            "[1, 1, 3, 4, 5, 6, 6, 21, 23, 98]\n"
          ]
        }
      ],
      "source": [
        "x = [3,6,21,1,5,98,4,23,1,6]\n",
        "x.sort()\n",
        "print(x)"
      ]
    },
    {
      "cell_type": "code",
      "execution_count": null,
      "id": "80be7a20",
      "metadata": {
        "ExecuteTime": {
          "end_time": "2023-07-10T09:59:15.381182Z",
          "start_time": "2023-07-10T09:59:15.371177Z"
        },
        "id": "80be7a20",
        "outputId": "f974b847-5a48-41c2-8fe0-d17766cbe4c4"
      },
      "outputs": [
        {
          "name": "stdout",
          "output_type": "stream",
          "text": [
            "[0, 1, 2, 3, 4, 5, 6, 7, 8, 9, 10, 11, 12, 13, 14, 15, 16, 17, 18, 19, 20, 21, 22, 23, 24, 25, 26, 27, 28, 29, 30, 31, 32, 33, 34, 35, 36, 37, 38, 39, 40, 41, 42, 43, 44, 45, 46, 47, 48, 49, 50, 51, 52, 53, 54, 55, 56, 57, 58, 59, 60, 61, 62, 63, 64, 65, 66, 67, 68, 69, 70, 71, 72, 73, 74, 75, 76, 77, 78, 79, 80, 81, 82, 83, 84, 85, 86, 87, 88, 89, 90, 91, 92, 93, 94, 95, 96, 97, 98, 99]\n"
          ]
        }
      ],
      "source": [
        "x = list(range(100))\n",
        "print(x)"
      ]
    },
    {
      "cell_type": "code",
      "execution_count": null,
      "id": "58bd713a",
      "metadata": {
        "ExecuteTime": {
          "end_time": "2023-07-10T10:00:24.518044Z",
          "start_time": "2023-07-10T10:00:24.500133Z"
        },
        "id": "58bd713a",
        "outputId": "d1cc1780-834e-4df1-9e63-08b81f3b2ccf"
      },
      "outputs": [
        {
          "name": "stdout",
          "output_type": "stream",
          "text": [
            "[1, 2, 3, 4, 5, 6, 7, 8, 9, 10, 11, 12, 13, 14, 15, 16, 17, 18, 19, 20, 21, 22, 23, 24, 25, 26, 27, 28, 29, 30, 31, 32, 33, 34, 35, 36, 37, 38, 39, 40, 41, 42, 43, 44, 45, 46, 47, 48, 49, 50, 51, 52, 53, 54, 55, 56, 57, 58, 59, 60, 61, 62, 63, 64, 65, 66, 67, 68, 69, 70, 71, 72, 73, 74, 75, 76, 77, 78, 79, 80, 81, 82, 83, 84, 85, 86, 87, 88, 89, 90, 91, 92, 93, 94, 95, 96, 97, 98, 99, 100]\n"
          ]
        }
      ],
      "source": [
        "x = list(range(1,101))\n",
        "print(x)"
      ]
    },
    {
      "cell_type": "code",
      "execution_count": null,
      "id": "2545778c",
      "metadata": {
        "ExecuteTime": {
          "end_time": "2023-07-10T10:02:43.995427Z",
          "start_time": "2023-07-10T10:02:43.968842Z"
        },
        "id": "2545778c"
      },
      "outputs": [],
      "source": [
        "words = {}\n",
        "words[\"BMP\"] = \"Bitmap\"\n",
        "words[\"BTW\"] = \"By The Way\"\n",
        "words[\"BRB\"] = \"Be Right Back\"\n",
        "\n"
      ]
    },
    {
      "cell_type": "code",
      "execution_count": null,
      "id": "e46448a4",
      "metadata": {
        "ExecuteTime": {
          "end_time": "2023-07-10T10:02:47.977210Z",
          "start_time": "2023-07-10T10:02:47.960671Z"
        },
        "id": "e46448a4",
        "outputId": "7a716303-e73e-4cfa-b305-bdf219017ec1"
      },
      "outputs": [
        {
          "data": {
            "text/plain": [
              "{'BMP': 'Bitmap', 'BTW': 'By The Way', 'BRB': 'Be Right Back'}"
            ]
          },
          "execution_count": 41,
          "metadata": {},
          "output_type": "execute_result"
        }
      ],
      "source": [
        "words"
      ]
    },
    {
      "cell_type": "code",
      "execution_count": null,
      "id": "41beee83",
      "metadata": {
        "ExecuteTime": {
          "end_time": "2023-07-10T10:03:13.188896Z",
          "start_time": "2023-07-10T10:03:13.173226Z"
        },
        "id": "41beee83",
        "outputId": "ac6c1e22-566a-446e-92cd-a4485d4b887a"
      },
      "outputs": [
        {
          "name": "stdout",
          "output_type": "stream",
          "text": [
            "Bitmap\n"
          ]
        }
      ],
      "source": [
        "print(words[\"BMP\"])"
      ]
    },
    {
      "cell_type": "code",
      "execution_count": null,
      "id": "98435681",
      "metadata": {
        "ExecuteTime": {
          "end_time": "2023-07-10T10:03:32.745881Z",
          "start_time": "2023-07-10T10:03:32.730898Z"
        },
        "id": "98435681",
        "outputId": "bdec772f-a4b1-49c2-8564-f2e73b0956ae"
      },
      "outputs": [
        {
          "name": "stdout",
          "output_type": "stream",
          "text": [
            "Be Right Back\n"
          ]
        }
      ],
      "source": [
        "print(words[\"BRB\"])"
      ]
    },
    {
      "cell_type": "code",
      "execution_count": null,
      "id": "a649c25c",
      "metadata": {
        "ExecuteTime": {
          "end_time": "2023-07-10T10:05:29.965396Z",
          "start_time": "2023-07-10T10:05:29.931558Z"
        },
        "id": "a649c25c",
        "outputId": "e6d6929b-a6b4-4d8d-aa2f-aeab2d59ef50"
      },
      "outputs": [
        {
          "name": "stdout",
          "output_type": "stream",
          "text": [
            "John eats Japanese\n",
            "John eats American\n",
            "John eats Mexican\n",
            "John eats French\n",
            "Marissa eats Japanese\n",
            "Marissa eats American\n",
            "Marissa eats Mexican\n",
            "Marissa eats French\n",
            "Pete eats Japanese\n",
            "Pete eats American\n",
            "Pete eats Mexican\n",
            "Pete eats French\n",
            "Dayton eats Japanese\n",
            "Dayton eats American\n",
            "Dayton eats Mexican\n",
            "Dayton eats French\n"
          ]
        }
      ],
      "source": [
        "persons = [ \"John\", \"Marissa\", \"Pete\", \"Dayton\" ]\n",
        "restaurants = [ \"Japanese\", \"American\", \"Mexican\", \"French\" ]\n",
        "\n",
        "for person in persons:\n",
        "    for restaurant in restaurants:\n",
        "        print(person + \" eats \" + restaurant)"
      ]
    },
    {
      "cell_type": "code",
      "execution_count": null,
      "id": "f88cd5fe",
      "metadata": {
        "ExecuteTime": {
          "end_time": "2023-07-10T10:07:06.063365Z",
          "start_time": "2023-07-10T10:07:06.046146Z"
        },
        "id": "f88cd5fe",
        "outputId": "ce8e4042-c444-4dd6-c8af-81021289568d"
      },
      "outputs": [
        {
          "name": "stdout",
          "output_type": "stream",
          "text": [
            "['John', 'Marissa']\n"
          ]
        }
      ],
      "source": [
        "persons = [ \"John\", \"Marissa\", \"Pete\", \"Dayton\" ]\n",
        "\n",
        "slice = persons[0:2]\n",
        "print(slice)"
      ]
    },
    {
      "cell_type": "code",
      "execution_count": null,
      "id": "acfb81be",
      "metadata": {
        "ExecuteTime": {
          "end_time": "2023-07-10T10:09:40.027530Z",
          "start_time": "2023-07-10T10:09:40.014697Z"
        },
        "id": "acfb81be",
        "outputId": "9a64d861-6118-46ce-f19f-89b6d5f9582c"
      },
      "outputs": [
        {
          "name": "stdout",
          "output_type": "stream",
          "text": [
            "Leona\n",
            "35\n",
            "UK\n"
          ]
        }
      ],
      "source": [
        "def getPerson():\n",
        "    name = \"Leona\"\n",
        "    age = 35\n",
        "    country = \"UK\"\n",
        "    return name,age,country\n",
        "\n",
        "name,age,country = getPerson()\n",
        "print(name)\n",
        "print(age)\n",
        "print(country)"
      ]
    },
    {
      "cell_type": "code",
      "execution_count": null,
      "id": "39c1f7b4",
      "metadata": {
        "ExecuteTime": {
          "end_time": "2023-07-10T10:10:39.170607Z",
          "start_time": "2023-07-10T10:10:39.162047Z"
        },
        "id": "39c1f7b4"
      },
      "outputs": [],
      "source": [
        "import time"
      ]
    },
    {
      "cell_type": "code",
      "execution_count": null,
      "id": "e29e3c88",
      "metadata": {
        "ExecuteTime": {
          "end_time": "2023-07-10T10:11:10.859605Z",
          "start_time": "2023-07-10T10:11:10.841901Z"
        },
        "id": "e29e3c88"
      },
      "outputs": [],
      "source": [
        "timenow = time.localtime(time.time())"
      ]
    },
    {
      "cell_type": "code",
      "execution_count": null,
      "id": "36d7e72c",
      "metadata": {
        "ExecuteTime": {
          "end_time": "2023-07-10T10:11:15.745536Z",
          "start_time": "2023-07-10T10:11:15.724438Z"
        },
        "id": "36d7e72c",
        "outputId": "7f2e625a-9f98-4ee4-847f-31f46590a7fe"
      },
      "outputs": [
        {
          "data": {
            "text/plain": [
              "time.struct_time(tm_year=2023, tm_mon=7, tm_mday=10, tm_hour=15, tm_min=41, tm_sec=10, tm_wday=0, tm_yday=191, tm_isdst=0)"
            ]
          },
          "execution_count": 50,
          "metadata": {},
          "output_type": "execute_result"
        }
      ],
      "source": [
        "timenow"
      ]
    },
    {
      "cell_type": "code",
      "execution_count": null,
      "id": "cbeadde8",
      "metadata": {
        "ExecuteTime": {
          "end_time": "2023-07-10T10:12:48.520796Z",
          "start_time": "2023-07-10T10:12:48.501779Z"
        },
        "id": "cbeadde8",
        "outputId": "f25b1250-ecbb-4888-ddc5-20d1d0a05350"
      },
      "outputs": [
        {
          "data": {
            "text/plain": [
              "[1, 2, 3, 4]"
            ]
          },
          "execution_count": 52,
          "metadata": {},
          "output_type": "execute_result"
        }
      ],
      "source": [
        "a = [1,2,3,4]\n",
        "a"
      ]
    },
    {
      "cell_type": "code",
      "execution_count": null,
      "id": "9ddebe28",
      "metadata": {
        "ExecuteTime": {
          "end_time": "2023-07-10T10:13:03.215846Z",
          "start_time": "2023-07-10T10:13:03.197848Z"
        },
        "id": "9ddebe28"
      },
      "outputs": [],
      "source": [
        "b = pd.Series(a)"
      ]
    },
    {
      "cell_type": "code",
      "execution_count": null,
      "id": "8cde3fbe",
      "metadata": {
        "ExecuteTime": {
          "end_time": "2023-07-10T10:13:09.155986Z",
          "start_time": "2023-07-10T10:13:09.140649Z"
        },
        "id": "8cde3fbe",
        "outputId": "65463718-114d-4f26-9ec0-3774d449f734"
      },
      "outputs": [
        {
          "data": {
            "text/plain": [
              "pandas.core.series.Series"
            ]
          },
          "execution_count": 54,
          "metadata": {},
          "output_type": "execute_result"
        }
      ],
      "source": [
        "type(b)"
      ]
    },
    {
      "cell_type": "code",
      "execution_count": null,
      "id": "79a0b59e",
      "metadata": {
        "ExecuteTime": {
          "end_time": "2023-07-10T10:13:21.629283Z",
          "start_time": "2023-07-10T10:13:21.619598Z"
        },
        "id": "79a0b59e",
        "outputId": "c5cd11ed-03c0-4d58-959c-c1944f9d3967"
      },
      "outputs": [
        {
          "data": {
            "text/plain": [
              "0    1\n",
              "1    2\n",
              "2    3\n",
              "3    4\n",
              "dtype: int64"
            ]
          },
          "execution_count": 55,
          "metadata": {},
          "output_type": "execute_result"
        }
      ],
      "source": [
        "b"
      ]
    },
    {
      "cell_type": "code",
      "execution_count": null,
      "id": "2427295e",
      "metadata": {
        "ExecuteTime": {
          "end_time": "2023-07-10T10:14:53.877686Z",
          "start_time": "2023-07-10T10:14:53.867136Z"
        },
        "id": "2427295e"
      },
      "outputs": [],
      "source": [
        "c =(1,2,3,4)"
      ]
    },
    {
      "cell_type": "code",
      "execution_count": null,
      "id": "07be0650",
      "metadata": {
        "ExecuteTime": {
          "end_time": "2023-07-10T10:14:58.708504Z",
          "start_time": "2023-07-10T10:14:58.699357Z"
        },
        "id": "07be0650",
        "outputId": "fd6ba210-8ea6-4d06-8210-82bd1557c115"
      },
      "outputs": [
        {
          "data": {
            "text/plain": [
              "tuple"
            ]
          },
          "execution_count": 57,
          "metadata": {},
          "output_type": "execute_result"
        }
      ],
      "source": [
        "type(c)"
      ]
    },
    {
      "cell_type": "code",
      "execution_count": null,
      "id": "a8c62da8",
      "metadata": {
        "ExecuteTime": {
          "end_time": "2023-07-10T10:17:42.949617Z",
          "start_time": "2023-07-10T10:17:42.925938Z"
        },
        "id": "a8c62da8"
      },
      "outputs": [],
      "source": [
        "df = pd.DataFrame({'col1':['A','B','A','A'],'col2':[1,2,1,3]})"
      ]
    },
    {
      "cell_type": "code",
      "execution_count": null,
      "id": "3f2578b2",
      "metadata": {
        "ExecuteTime": {
          "end_time": "2023-07-10T10:17:45.083598Z",
          "start_time": "2023-07-10T10:17:45.017986Z"
        },
        "id": "3f2578b2",
        "outputId": "b4d77d11-f847-497f-ccf0-bfbbbac90d9c"
      },
      "outputs": [
        {
          "data": {
            "text/html": [
              "<div><div id=199b3ce1-17c4-462e-8692-0ae7c03a9bcd style=\"display:none; background-color:#9D6CFF; color:white; width:200px; height:30px; padding-left:5px; border-radius:4px; flex-direction:row; justify-content:space-around; align-items:center;\" onmouseover=\"this.style.backgroundColor='#BA9BF8'\" onmouseout=\"this.style.backgroundColor='#9D6CFF'\" onclick=\"window.commands?.execute('create-mitosheet-from-dataframe-output');\">See Full Dataframe in Mito</div> <script> if (window.commands?.hasCommand('create-mitosheet-from-dataframe-output')) document.getElementById('199b3ce1-17c4-462e-8692-0ae7c03a9bcd').style.display = 'flex' </script> <table border=\"1\" class=\"dataframe\">\n",
              "  <thead>\n",
              "    <tr style=\"text-align: right;\">\n",
              "      <th></th>\n",
              "      <th>col1</th>\n",
              "      <th>col2</th>\n",
              "    </tr>\n",
              "  </thead>\n",
              "  <tbody>\n",
              "    <tr>\n",
              "      <th>0</th>\n",
              "      <td>A</td>\n",
              "      <td>1</td>\n",
              "    </tr>\n",
              "    <tr>\n",
              "      <th>1</th>\n",
              "      <td>B</td>\n",
              "      <td>2</td>\n",
              "    </tr>\n",
              "    <tr>\n",
              "      <th>2</th>\n",
              "      <td>A</td>\n",
              "      <td>1</td>\n",
              "    </tr>\n",
              "    <tr>\n",
              "      <th>3</th>\n",
              "      <td>A</td>\n",
              "      <td>3</td>\n",
              "    </tr>\n",
              "  </tbody>\n",
              "</table></div>"
            ],
            "text/plain": [
              "  col1  col2\n",
              "0    A     1\n",
              "1    B     2\n",
              "2    A     1\n",
              "3    A     3"
            ]
          },
          "execution_count": 59,
          "metadata": {},
          "output_type": "execute_result"
        }
      ],
      "source": [
        "df"
      ]
    },
    {
      "cell_type": "code",
      "execution_count": null,
      "id": "3b40cd46",
      "metadata": {
        "ExecuteTime": {
          "end_time": "2023-07-10T10:18:11.293551Z",
          "start_time": "2023-07-10T10:18:11.277001Z"
        },
        "id": "3b40cd46",
        "outputId": "d2ac9ca3-96b2-4f29-f3ce-fc6d08f52523"
      },
      "outputs": [
        {
          "data": {
            "text/plain": [
              "0    False\n",
              "1    False\n",
              "2     True\n",
              "3    False\n",
              "dtype: bool"
            ]
          },
          "execution_count": 61,
          "metadata": {},
          "output_type": "execute_result"
        }
      ],
      "source": [
        "df.duplicated()"
      ]
    },
    {
      "cell_type": "code",
      "execution_count": null,
      "id": "5a9e7070",
      "metadata": {
        "ExecuteTime": {
          "end_time": "2023-07-10T10:18:48.421568Z",
          "start_time": "2023-07-10T10:18:48.391978Z"
        },
        "id": "5a9e7070",
        "outputId": "096e0775-7965-4ad3-f678-8a52a57cc54a"
      },
      "outputs": [
        {
          "data": {
            "text/html": [
              "<div><div id=d863f55e-1135-453e-a7bf-44498490331c style=\"display:none; background-color:#9D6CFF; color:white; width:200px; height:30px; padding-left:5px; border-radius:4px; flex-direction:row; justify-content:space-around; align-items:center;\" onmouseover=\"this.style.backgroundColor='#BA9BF8'\" onmouseout=\"this.style.backgroundColor='#9D6CFF'\" onclick=\"window.commands?.execute('create-mitosheet-from-dataframe-output');\">See Full Dataframe in Mito</div> <script> if (window.commands?.hasCommand('create-mitosheet-from-dataframe-output')) document.getElementById('d863f55e-1135-453e-a7bf-44498490331c').style.display = 'flex' </script> <table border=\"1\" class=\"dataframe\">\n",
              "  <thead>\n",
              "    <tr style=\"text-align: right;\">\n",
              "      <th></th>\n",
              "      <th>col1</th>\n",
              "      <th>col2</th>\n",
              "    </tr>\n",
              "  </thead>\n",
              "  <tbody>\n",
              "    <tr>\n",
              "      <th>2</th>\n",
              "      <td>A</td>\n",
              "      <td>1</td>\n",
              "    </tr>\n",
              "  </tbody>\n",
              "</table></div>"
            ],
            "text/plain": [
              "  col1  col2\n",
              "2    A     1"
            ]
          },
          "execution_count": 62,
          "metadata": {},
          "output_type": "execute_result"
        }
      ],
      "source": [
        "df[df.duplicated()]"
      ]
    },
    {
      "cell_type": "code",
      "execution_count": null,
      "id": "6a516984",
      "metadata": {
        "ExecuteTime": {
          "end_time": "2023-07-10T10:19:15.542917Z",
          "start_time": "2023-07-10T10:19:15.534607Z"
        },
        "id": "6a516984"
      },
      "outputs": [],
      "source": [
        "df1 = df.drop_duplicates()"
      ]
    },
    {
      "cell_type": "code",
      "execution_count": null,
      "id": "615fbfe9",
      "metadata": {
        "ExecuteTime": {
          "end_time": "2023-07-10T10:19:18.284437Z",
          "start_time": "2023-07-10T10:19:18.268388Z"
        },
        "id": "615fbfe9",
        "outputId": "488ca838-de5e-4a93-c6e2-6080ce38e7ac"
      },
      "outputs": [
        {
          "data": {
            "text/html": [
              "<div><div id=6f4b8f01-e688-4e67-92b6-9d9505699dc2 style=\"display:none; background-color:#9D6CFF; color:white; width:200px; height:30px; padding-left:5px; border-radius:4px; flex-direction:row; justify-content:space-around; align-items:center;\" onmouseover=\"this.style.backgroundColor='#BA9BF8'\" onmouseout=\"this.style.backgroundColor='#9D6CFF'\" onclick=\"window.commands?.execute('create-mitosheet-from-dataframe-output');\">See Full Dataframe in Mito</div> <script> if (window.commands?.hasCommand('create-mitosheet-from-dataframe-output')) document.getElementById('6f4b8f01-e688-4e67-92b6-9d9505699dc2').style.display = 'flex' </script> <table border=\"1\" class=\"dataframe\">\n",
              "  <thead>\n",
              "    <tr style=\"text-align: right;\">\n",
              "      <th></th>\n",
              "      <th>col1</th>\n",
              "      <th>col2</th>\n",
              "    </tr>\n",
              "  </thead>\n",
              "  <tbody>\n",
              "    <tr>\n",
              "      <th>0</th>\n",
              "      <td>A</td>\n",
              "      <td>1</td>\n",
              "    </tr>\n",
              "    <tr>\n",
              "      <th>1</th>\n",
              "      <td>B</td>\n",
              "      <td>2</td>\n",
              "    </tr>\n",
              "    <tr>\n",
              "      <th>3</th>\n",
              "      <td>A</td>\n",
              "      <td>3</td>\n",
              "    </tr>\n",
              "  </tbody>\n",
              "</table></div>"
            ],
            "text/plain": [
              "  col1  col2\n",
              "0    A     1\n",
              "1    B     2\n",
              "3    A     3"
            ]
          },
          "execution_count": 64,
          "metadata": {},
          "output_type": "execute_result"
        }
      ],
      "source": [
        "df1"
      ]
    },
    {
      "cell_type": "code",
      "execution_count": null,
      "id": "27385ce6",
      "metadata": {
        "ExecuteTime": {
          "end_time": "2023-07-10T10:19:53.889835Z",
          "start_time": "2023-07-10T10:19:53.865119Z"
        },
        "id": "27385ce6"
      },
      "outputs": [],
      "source": [
        "df2 =df1.reset_index()"
      ]
    },
    {
      "cell_type": "code",
      "execution_count": null,
      "id": "4a548938",
      "metadata": {
        "ExecuteTime": {
          "end_time": "2023-07-10T10:19:57.549578Z",
          "start_time": "2023-07-10T10:19:57.528882Z"
        },
        "id": "4a548938",
        "outputId": "4d4e4575-5046-4815-fab3-f80f802a2f54"
      },
      "outputs": [
        {
          "data": {
            "text/html": [
              "<div><div id=1ecd41d8-5bf1-4963-b8c0-171e7ee9de88 style=\"display:none; background-color:#9D6CFF; color:white; width:200px; height:30px; padding-left:5px; border-radius:4px; flex-direction:row; justify-content:space-around; align-items:center;\" onmouseover=\"this.style.backgroundColor='#BA9BF8'\" onmouseout=\"this.style.backgroundColor='#9D6CFF'\" onclick=\"window.commands?.execute('create-mitosheet-from-dataframe-output');\">See Full Dataframe in Mito</div> <script> if (window.commands?.hasCommand('create-mitosheet-from-dataframe-output')) document.getElementById('1ecd41d8-5bf1-4963-b8c0-171e7ee9de88').style.display = 'flex' </script> <table border=\"1\" class=\"dataframe\">\n",
              "  <thead>\n",
              "    <tr style=\"text-align: right;\">\n",
              "      <th></th>\n",
              "      <th>index</th>\n",
              "      <th>col1</th>\n",
              "      <th>col2</th>\n",
              "    </tr>\n",
              "  </thead>\n",
              "  <tbody>\n",
              "    <tr>\n",
              "      <th>0</th>\n",
              "      <td>0</td>\n",
              "      <td>A</td>\n",
              "      <td>1</td>\n",
              "    </tr>\n",
              "    <tr>\n",
              "      <th>1</th>\n",
              "      <td>1</td>\n",
              "      <td>B</td>\n",
              "      <td>2</td>\n",
              "    </tr>\n",
              "    <tr>\n",
              "      <th>2</th>\n",
              "      <td>3</td>\n",
              "      <td>A</td>\n",
              "      <td>3</td>\n",
              "    </tr>\n",
              "  </tbody>\n",
              "</table></div>"
            ],
            "text/plain": [
              "   index col1  col2\n",
              "0      0    A     1\n",
              "1      1    B     2\n",
              "2      3    A     3"
            ]
          },
          "execution_count": 66,
          "metadata": {},
          "output_type": "execute_result"
        }
      ],
      "source": [
        "df2"
      ]
    },
    {
      "cell_type": "code",
      "execution_count": null,
      "id": "b292df12",
      "metadata": {
        "ExecuteTime": {
          "end_time": "2023-07-10T10:21:30.721084Z",
          "start_time": "2023-07-10T10:21:30.700827Z"
        },
        "id": "b292df12",
        "outputId": "4103119c-1b55-43f8-9000-b234ba9a75dd"
      },
      "outputs": [
        {
          "data": {
            "text/html": [
              "<div><div id=63443f4a-5feb-4da6-9e18-60958840b75a style=\"display:none; background-color:#9D6CFF; color:white; width:200px; height:30px; padding-left:5px; border-radius:4px; flex-direction:row; justify-content:space-around; align-items:center;\" onmouseover=\"this.style.backgroundColor='#BA9BF8'\" onmouseout=\"this.style.backgroundColor='#9D6CFF'\" onclick=\"window.commands?.execute('create-mitosheet-from-dataframe-output');\">See Full Dataframe in Mito</div> <script> if (window.commands?.hasCommand('create-mitosheet-from-dataframe-output')) document.getElementById('63443f4a-5feb-4da6-9e18-60958840b75a').style.display = 'flex' </script> <table border=\"1\" class=\"dataframe\">\n",
              "  <thead>\n",
              "    <tr style=\"text-align: right;\">\n",
              "      <th></th>\n",
              "      <th>col1</th>\n",
              "      <th>col2</th>\n",
              "    </tr>\n",
              "  </thead>\n",
              "  <tbody>\n",
              "    <tr>\n",
              "      <th>0</th>\n",
              "      <td>A</td>\n",
              "      <td>1</td>\n",
              "    </tr>\n",
              "    <tr>\n",
              "      <th>1</th>\n",
              "      <td>B</td>\n",
              "      <td>2</td>\n",
              "    </tr>\n",
              "    <tr>\n",
              "      <th>2</th>\n",
              "      <td>A</td>\n",
              "      <td>3</td>\n",
              "    </tr>\n",
              "  </tbody>\n",
              "</table></div>"
            ],
            "text/plain": [
              "  col1  col2\n",
              "0    A     1\n",
              "1    B     2\n",
              "2    A     3"
            ]
          },
          "execution_count": 67,
          "metadata": {},
          "output_type": "execute_result"
        }
      ],
      "source": [
        "df3 = df2.drop('index',axis = 1)\n",
        "df3"
      ]
    },
    {
      "cell_type": "code",
      "execution_count": null,
      "id": "113cc2f0",
      "metadata": {
        "id": "113cc2f0"
      },
      "outputs": [],
      "source": []
    }
  ],
  "metadata": {
    "kernelspec": {
      "display_name": "Python 3 (ipykernel)",
      "language": "python",
      "name": "python3"
    },
    "language_info": {
      "codemirror_mode": {
        "name": "ipython",
        "version": 3
      },
      "file_extension": ".py",
      "mimetype": "text/x-python",
      "name": "python",
      "nbconvert_exporter": "python",
      "pygments_lexer": "ipython3",
      "version": "3.9.7"
    },
    "colab": {
      "provenance": [],
      "include_colab_link": true
    }
  },
  "nbformat": 4,
  "nbformat_minor": 5
}